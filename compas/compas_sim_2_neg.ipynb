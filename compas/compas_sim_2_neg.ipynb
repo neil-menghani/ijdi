{
 "cells": [
  {
   "cell_type": "code",
   "execution_count": null,
   "metadata": {},
   "outputs": [],
   "source": [
    "import os\n",
    "\n",
    "os.chdir('../scripts') # cd into scripts dir\n",
    "\n",
    "from scan import *\n",
    "from prep import *\n",
    "import pandas as pd, numpy as np\n",
    "from sklearn.linear_model import LogisticRegression\n",
    "\n",
    "os.chdir('../') # cd back to parent dir\n",
    "home_dir = \"compas/\" # set home dir for reading and storing data\n",
    "\n",
    "# Read recipe inputs\n",
    "compas_prep_df = pd.read_csv(home_dir + \"datasets/compas_prep.csv\")\n",
    "compas_prep_df"
   ]
  },
  {
   "cell_type": "markdown",
   "metadata": {},
   "source": [
    "### Prepare Base Dataset for Simulations"
   ]
  },
  {
   "cell_type": "markdown",
   "metadata": {},
   "source": [
    "Select only covariates and outcomes to prepare for simulation."
   ]
  },
  {
   "cell_type": "code",
   "execution_count": null,
   "metadata": {},
   "outputs": [],
   "source": [
    "# Exclude risk score\n",
    "prob_cols = ['compas_risk_score', 'proba_lr']\n",
    "compas_sim_df = compas_prep_df.drop(columns=prob_cols)"
   ]
  },
  {
   "cell_type": "markdown",
   "metadata": {},
   "source": [
    "### Build Logistic Regression Model to Predict Outcomes"
   ]
  },
  {
   "cell_type": "markdown",
   "metadata": {},
   "source": [
    "One-Hot encode categorical features."
   ]
  },
  {
   "cell_type": "code",
   "execution_count": null,
   "metadata": {},
   "outputs": [],
   "source": [
    "### Columns to exclude from model\n",
    "exclude = ['race', 'under_25']"
   ]
  },
  {
   "cell_type": "code",
   "execution_count": null,
   "metadata": {},
   "outputs": [],
   "source": [
    "compas_df = compas_sim_df.copy(deep=True)\n",
    "compas_df = compas_df.drop(columns=exclude)\n",
    "compas_df"
   ]
  },
  {
   "cell_type": "code",
   "execution_count": null,
   "metadata": {},
   "outputs": [],
   "source": [
    "for cat_col in compas_df.select_dtypes(include=['object', 'bool']).columns:\n",
    "    compas_df[cat_col] = compas_df[cat_col].astype('category')"
   ]
  },
  {
   "cell_type": "code",
   "execution_count": null,
   "metadata": {},
   "outputs": [],
   "source": [
    "X_num = compas_df.select_dtypes(exclude=['category'])\n",
    "X_cat = compas_df.select_dtypes(include=['category'])"
   ]
  },
  {
   "cell_type": "code",
   "execution_count": null,
   "metadata": {},
   "outputs": [],
   "source": [
    "X_cat"
   ]
  },
  {
   "cell_type": "code",
   "execution_count": null,
   "metadata": {},
   "outputs": [],
   "source": [
    "# one-hot encoding of categorical features\n",
    "X_encoded = pd.get_dummies(X_cat)\n",
    "frames = [X_encoded, X_num]\n",
    "compas_df = pd.concat(frames, axis=1)"
   ]
  },
  {
   "cell_type": "code",
   "execution_count": null,
   "metadata": {},
   "outputs": [],
   "source": [
    "extra_cols = ['sex_Female', 'prior_offenses_None', 'charge_degree_M']\n",
    "compas_df = compas_df.drop(columns=extra_cols)\n",
    "compas_df"
   ]
  },
  {
   "cell_type": "code",
   "execution_count": null,
   "metadata": {},
   "outputs": [],
   "source": [
    "X = compas_df.drop(columns=['outcomes'])\n",
    "y = compas_df['outcomes']"
   ]
  },
  {
   "cell_type": "code",
   "execution_count": null,
   "metadata": {},
   "outputs": [],
   "source": [
    "lr = LogisticRegression(random_state=0, solver='lbfgs')\n",
    "lr.fit(X, y)\n",
    "proba = lr.predict_proba(X)[:,1]\n",
    "compas_sim_df['proba'] = proba\n",
    "compas_sim_df"
   ]
  },
  {
   "cell_type": "code",
   "execution_count": null,
   "metadata": {},
   "outputs": [],
   "source": [
    "# Check accuracy\n",
    "# Note: model results can vary environment to environment, which can impact IJDI scores.\n",
    "compas_sim_df['test_outcomes'] = compas_sim_df['proba'].apply(lambda x : 1 if x > 0.5 else 0)\n",
    "compas_sim_df['check'] = compas_sim_df.apply(lambda x : 1 if x['outcomes'] == x['test_outcomes'] else 0, axis=1)\n",
    "print(np.sum(compas_sim_df['check']) / len(compas_sim_df))\n",
    "compas_sim_df = compas_sim_df.drop(columns=['test_outcomes', 'check'])"
   ]
  },
  {
   "cell_type": "markdown",
   "metadata": {},
   "source": [
    "### Example of one Iteration for Base Case of the Simulation 2"
   ]
  },
  {
   "cell_type": "markdown",
   "metadata": {},
   "source": [
    "Define subgroup for which to simulate altered probabilities."
   ]
  },
  {
   "cell_type": "code",
   "execution_count": null,
   "metadata": {},
   "outputs": [],
   "source": [
    "pd.options.mode.chained_assignment = None  # suppress warnings on chained assignment\n",
    "subgroup = {'race':['African-American', 'Asian'], 'under_25':[True]}\n",
    "compas_sim_df['in_subgroup'] = compas_sim_df[list(subgroup.keys())].isin(subgroup).all(axis=1)\n",
    "compas_sim_df"
   ]
  },
  {
   "cell_type": "code",
   "execution_count": null,
   "metadata": {},
   "outputs": [],
   "source": [
    "THRESHOLD = 0.5\n",
    "proba_epsilon = 0.3\n",
    "threshold_epsilon = 0.3\n",
    "compas_sim_df['proba_shifted'] = compas_sim_df.apply(lambda x : calculate_proba_shift(x['proba'], proba_epsilon) if x['in_subgroup']\n",
    "                                                                                                                 else x['proba'], axis=1)\n",
    "compas_sim_df['threshold'] = THRESHOLD\n",
    "compas_sim_df['threshold_shifted'] = compas_sim_df.apply(lambda x : calculate_proba_shift(x['threshold'], -threshold_epsilon) if x['in_subgroup']\n",
    "                                                                                                                              else x['threshold'], axis=1)\n",
    "compas_sim_df['outcomes'] = compas_sim_df['proba'].apply(lambda x : generate_outcomes(x))\n",
    "compas_sim_df"
   ]
  },
  {
   "cell_type": "markdown",
   "metadata": {},
   "source": [
    "Generate variant metrics for only \"truly negative-outcome\" people (those who did NOT reoffend). Additionally, generate metrics required for IJDI scan (i.e. $\\hat{p}$ calculation)."
   ]
  },
  {
   "cell_type": "code",
   "execution_count": null,
   "metadata": {},
   "outputs": [],
   "source": [
    "# specify probability and outcomes columns\n",
    "OUTCOMES_COL = 'outcomes'\n",
    "FEATURES = ['sex', 'race', 'under_25', 'charge_degree']\n",
    "LAMBDA_PARAM = 10\n",
    "pd.options.mode.chained_assignment = None  # suppress warnings on chained assignment\n",
    "\n",
    "# filter for only negative outcomes\n",
    "negatives_df = compas_sim_df.loc[compas_sim_df[OUTCOMES_COL] == 0]"
   ]
  },
  {
   "cell_type": "code",
   "execution_count": null,
   "metadata": {},
   "outputs": [],
   "source": [
    "# # define new columns\n",
    "# metrics_df = generate_metrics(negatives_df, 'proba_shifted', OUTCOMES_COL, THRESHOLD, constant_threshold=False)\n",
    "\n",
    "# print(\"Number of people in subgroup:\", len(negatives_df[negatives_df['in_subgroup'] == True]))\n",
    "# print(\"Number of people not in subgroup:\", len(negatives_df[negatives_df['in_subgroup'] == False]))\n",
    "# print(\"Total population:\", len(negatives_df))\n",
    "\n",
    "# # display preview of treatments, probabilities, and outcomes\n",
    "# metrics_df.head(10)"
   ]
  },
  {
   "cell_type": "code",
   "execution_count": null,
   "metadata": {},
   "outputs": [],
   "source": [
    "# scan with shifted probabilities\n",
    "current_subset, current_score = run_ijdi_scan(negatives_df, FEATURES, 'proba', 'proba', OUTCOMES_COL,\n",
    "                                              'threshold_shifted', LAMBDA_PARAM, constant_threshold=False)\n",
    "summarize_scan(negatives_df, FEATURES, 'proba', OUTCOMES_COL, current_subset, include='all')"
   ]
  },
  {
   "cell_type": "code",
   "execution_count": null,
   "metadata": {},
   "outputs": [],
   "source": [
    "# scan with shifted thresholds\n",
    "current_subset, current_score = run_ijdi_scan(negatives_df, FEATURES, 'proba_shifted', 'proba', OUTCOMES_COL,\n",
    "                                              'threshold', LAMBDA_PARAM, constant_threshold=False)\n",
    "summarize_scan(negatives_df, FEATURES, 'proba', OUTCOMES_COL, current_subset, include='all')"
   ]
  },
  {
   "cell_type": "markdown",
   "metadata": {},
   "source": [
    "### Simulations for Negatives"
   ]
  },
  {
   "cell_type": "markdown",
   "metadata": {},
   "source": [
    "Set mean values as well as ranges of standard deviation and lambda to iterate over for each simulation. Also define threshold and number of iterations to run for each set of parameters."
   ]
  },
  {
   "cell_type": "code",
   "execution_count": null,
   "metadata": {},
   "outputs": [],
   "source": [
    "epsilon_vals = [0, 0.3, 3]\n",
    "lambda_vals = [0, 0.3, 1, 3, 10]\n",
    "n_iters = 1\n",
    "\n",
    "# specify parameters for generating metrics and IJDI scan\n",
    "outcomes_col = 'outcomes'\n",
    "features = ['sex', 'race', 'under_25', 'charge_degree']\n",
    "threshold = 0.5\n",
    "pd.options.mode.chained_assignment = None  # suppress warnings on chained assignment\n",
    "\n",
    "# set random seed\n",
    "np.random.seed(100)"
   ]
  },
  {
   "cell_type": "code",
   "execution_count": null,
   "metadata": {},
   "outputs": [],
   "source": [
    "sim_data = []\n",
    "\n",
    "for e in epsilon_vals:\n",
    "\n",
    "    print(\"Parameter Epsilon =\", e)\n",
    "\n",
    "    for i in range(n_iters): # run n iterations for each k value\n",
    "\n",
    "        print(\"Simulation\", i+1, \"of\", n_iters)\n",
    "\n",
    "        compas_sim_df['proba_shifted'] = compas_sim_df.apply(lambda x : calculate_proba_shift(x['proba'], e) if x['in_subgroup']\n",
    "                                                                                                             else x['proba'], axis=1)\n",
    "        compas_sim_df['threshold'] = threshold\n",
    "        compas_sim_df['threshold_shifted'] = compas_sim_df.apply(lambda x : calculate_proba_shift(x['threshold'], -e) if x['in_subgroup']\n",
    "                                                                                                                      else x['threshold'], axis=1)\n",
    "        compas_sim_df['outcomes'] = compas_sim_df['proba'].apply(lambda x : generate_outcomes(x))\n",
    "\n",
    "        # filter for only negative outcomes\n",
    "        negatives_df = compas_sim_df.loc[compas_sim_df[outcomes_col] == 0]\n",
    "\n",
    "        for lambda_param in lambda_vals: # run IJDI scan for various lambda values\n",
    "\n",
    "            print(\"Lambda =\", lambda_param)\n",
    "\n",
    "            # Run IJDI Scan. Make sure to pass in copy because data may be modified by the function!\n",
    "            proba_shift_subset, proba_shift_score = run_ijdi_scan(negatives_df.copy(deep=True), features, 'proba_shifted', 'proba', outcomes_col,\n",
    "                                                                  'threshold', lambda_param, constant_threshold=False, verbose=True)\n",
    "            threshold_shift_subset, threshold_shift_score = run_ijdi_scan(negatives_df.copy(deep=True), features, 'proba', 'proba', outcomes_col,\n",
    "                                                                          'threshold_shifted', lambda_param, constant_threshold=False, verbose=True)\n",
    "\n",
    "            # save iou and score\n",
    "            if proba_shift_subset:\n",
    "                in_subgroup = negatives_df[list(subgroup.keys())].isin(subgroup).all(axis=1)\n",
    "                in_proba_shift_subset = negatives_df[list(proba_shift_subset.keys())].isin(proba_shift_subset).all(axis=1)\n",
    "                proba_shift_iou = (in_subgroup & in_proba_shift_subset).sum() / (in_subgroup | in_proba_shift_subset).sum()\n",
    "            else:\n",
    "                proba_shift_iou = 0.0\n",
    "\n",
    "            print(\"Detected proba shift subset intersection over union with expected subset:\", proba_shift_iou)\n",
    "            print(\"Detected proba shift subset score:\", proba_shift_score)\n",
    "\n",
    "            if threshold_shift_subset:\n",
    "                in_subgroup = negatives_df[list(subgroup.keys())].isin(subgroup).all(axis=1)\n",
    "                in_threshold_shift_subset = negatives_df[list(threshold_shift_subset.keys())].isin(threshold_shift_subset).all(axis=1)\n",
    "                threshold_shift_iou = (in_subgroup & in_threshold_shift_subset).sum() / (in_subgroup | in_threshold_shift_subset).sum()\n",
    "            else:\n",
    "                threshold_shift_iou = 0.0\n",
    "\n",
    "            print(\"Detected threshold shift subset intersection over union with expected subset:\", threshold_shift_iou)\n",
    "            print(\"Detected threshold shift subset score:\", threshold_shift_score)\n",
    "\n",
    "            # append data\n",
    "            sim_row = [e, lambda_param, proba_shift_iou, proba_shift_score, threshold_shift_iou, threshold_shift_score]\n",
    "            sim_data.append(sim_row)\n",
    "\n",
    "            print(sim_row)\n",
    "            print(\"\\n----------------------------------------------------\\n\")"
   ]
  },
  {
   "cell_type": "code",
   "execution_count": null,
   "metadata": {},
   "outputs": [],
   "source": [
    "columns = ['e', 'lambda', 'proba_shift_iou', 'proba_shift_score', 'threshold_shift_iou', 'threshold_shift_score']\n",
    "sim_result_df = pd.DataFrame(sim_data, columns=columns)\n",
    "sim_result_df"
   ]
  },
  {
   "cell_type": "code",
   "execution_count": null,
   "metadata": {},
   "outputs": [],
   "source": [
    "# Write recipe outputs\n",
    "sim_result_df.to_csv(home_dir + \"datasets/compas_sim_2_neg.csv\")"
   ]
  }
 ],
 "metadata": {
  "associatedRecipe": "compute_compas_sim_2_neg",
  "createdOn": 1660832079222,
  "creator": "admin",
  "customFields": {},
  "hide_input": false,
  "kernelspec": {
   "display_name": "Python 3 (ipykernel)",
   "language": "python",
   "name": "python3"
  },
  "language_info": {
   "codemirror_mode": {
    "name": "ipython",
    "version": 3
   },
   "file_extension": ".py",
   "mimetype": "text/x-python",
   "name": "python",
   "nbconvert_exporter": "python",
   "pygments_lexer": "ipython3",
   "version": "3.7.13"
  },
  "modifiedBy": "admin",
  "tags": [
   "recipe-editor"
  ]
 },
 "nbformat": 4,
 "nbformat_minor": 4
}
