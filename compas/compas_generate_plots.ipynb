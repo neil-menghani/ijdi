{
 "cells": [
  {
   "cell_type": "markdown",
   "metadata": {},
   "source": [
    "### Import Libraries"
   ]
  },
  {
   "cell_type": "code",
   "execution_count": 2,
   "metadata": {},
   "outputs": [],
   "source": [
    "import os\n",
    "\n",
    "os.chdir('../scripts') # cd into scripts dir\n",
    "\n",
    "from scan import *\n",
    "from prep import *\n",
    "import pandas as pd, numpy as np\n",
    "import matplotlib.pyplot as plt\n",
    "\n",
    "os.chdir('../') # cd back to parent dir\n",
    "home_dir = \"compas/\" # set home dir for reading and storing data\n",
    "\n",
    "if not os.path.exists(\"plots\"):\n",
    "    os.mkdir(\"plots\")"
   ]
  },
  {
   "cell_type": "markdown",
   "metadata": {},
   "source": [
    "Set flags to decide whether to generate plots for each experiment."
   ]
  },
  {
   "cell_type": "code",
   "execution_count": 1,
   "metadata": {},
   "outputs": [],
   "source": [
    "sim_1 = True\n",
    "sim_2 = True\n",
    "mit_1 = True\n",
    "mit_2 = True"
   ]
  },
  {
   "cell_type": "code",
   "execution_count": null,
   "metadata": {},
   "outputs": [],
   "source": [
    "vals = [0, 1, 3, 10]\n",
    "compas_sim_1_df = pd.read_csv(home_dir + \"datasets/compas_prep.csv\")\n",
    "compas_sim_1_df = compas_sim_1_df.loc[compas_sim_df['k'].isin(vals)]\n",
    "\n",
    "group_df = compas_sim_df.groupby(['k', 'lambda']).mean().reset_index()\n",
    "iou_df = group_df[['k', 'lambda', 'iou']]\n",
    "score_df = group_df[['k', 'lambda', 'score']]"
   ]
  },
  {
   "cell_type": "code",
   "execution_count": null,
   "metadata": {},
   "outputs": [],
   "source": [
    "# Plot score curves for each k\n",
    "score_fig = plt.figure(figsize=(7.5, 6))\n",
    "k_vals = list(set(list(group_df['k'])))\n",
    "k_vals.sort()\n",
    "for k in k_vals:\n",
    "    score_k_df = score_df.loc[score_df['k'] == k]\n",
    "    plt.plot(score_k_df['lambda'], score_k_df['score'], label='k={}'.format(k))\n",
    "\n",
    "# plt.title(\"Score as a Function of Lambda\", fontsize=24)\n",
    "plt.xlabel(\"lambda\", fontsize=20)\n",
    "plt.ylabel(\"score\", fontsize=20)\n",
    "plt.legend(loc=1, prop={'size': 16})\n",
    "score_fig.savefig(score_bs, format=\"png\")\n",
    "# plt.show()"
   ]
  },
  {
   "cell_type": "markdown",
   "metadata": {},
   "source": []
  },
  {
   "cell_type": "code",
   "execution_count": null,
   "metadata": {},
   "outputs": [],
   "source": [
    "# Generate Theoretical Lambda Cutoffs\n",
    "def gen_lambda_cutoff(k):\n",
    "    if k == 0:\n",
    "        return 50\n",
    "    else:\n",
    "        return (75/k)*(4999-k**2)/(7497-k**2)"
   ]
  },
  {
   "cell_type": "code",
   "execution_count": null,
   "metadata": {},
   "outputs": [],
   "source": [
    "iou_df"
   ]
  },
  {
   "cell_type": "code",
   "execution_count": null,
   "metadata": {},
   "outputs": [],
   "source": [
    "theo_0_df = pd.DataFrame(k_vals, columns=['k'])\n",
    "theo_0_df['lambda'] = theo_0_df['k'].apply(lambda k : gen_lambda_cutoff(k))\n",
    "theo_1_df = theo_0_df.copy(deep=True)\n",
    "theo_0_df['iou'] = 0\n",
    "theo_1_df['iou'] = 1\n",
    "theo_df = theo_0_df.append(theo_1_df)\n",
    "theo_df"
   ]
  },
  {
   "cell_type": "code",
   "execution_count": null,
   "metadata": {},
   "outputs": [],
   "source": [
    "def get_color():\n",
    "    return (np.random.rand(), np.random.rand(), np.random.rand())"
   ]
  },
  {
   "cell_type": "code",
   "execution_count": null,
   "metadata": {},
   "outputs": [],
   "source": [
    "np.random.seed(1)\n",
    "iou_fig = plt.figure(figsize=(10, 8))\n",
    "k_vals = list(set(list(group_df['k'])))\n",
    "k_vals.sort()\n",
    "for k in k_vals:\n",
    "    iou_k_df = iou_df.loc[iou_df['k'] == k]\n",
    "    theo_k_df = theo_df.loc[theo_df['k'] == k]\n",
    "    color = get_color()\n",
    "    plt.plot(iou_k_df['lambda'], iou_k_df['iou'], label='Actual k={}'.format(k), color=color, marker='o')\n",
    "    plt.plot(theo_k_df['lambda'], theo_k_df['iou'], label='Theo k={}'.format(k), color=color, linestyle='dashed')\n",
    "\n",
    "# plt.title(\"Detection: Actual vs. Theoretical Lambda Cutoffs\", fontsize=24)\n",
    "plt.xlabel(\"lambda\", fontsize=20)\n",
    "plt.ylabel(\"iou\", fontsize=20)\n",
    "plt.legend(loc=1, prop={'size': 16})\n",
    "io_bs = io.BytesIO()\n",
    "iou_fig.savefig(io_bs, format=\"png\")\n",
    "folder.upload_stream(\"iou_\" + sim + \".png\", io_bs.getvalue())\n",
    "# plt.show()"
   ]
  },
  {
   "cell_type": "code",
   "execution_count": null,
   "metadata": {},
   "outputs": [],
   "source": [
    "# Recipe outputs\n",
    "ja4hiuwi = dataiku.Folder(\"ja4hiuWI\")\n",
    "ja4hiuwi_info = ja4hiuwi.get_info()"
   ]
  }
 ],
 "metadata": {
  "associatedRecipe": "recipe_from_notebook_notebook_editor_for_compute_compas_theo",
  "createdOn": 1656960986354,
  "creationTag": {
   "lastModifiedBy": {
    "login": "admin"
   },
   "lastModifiedOn": 1656960986354,
   "versionNumber": 0
  },
  "creator": "admin",
  "customFields": {},
  "dkuGit": {
   "lastInteraction": 0
  },
  "hide_input": false,
  "kernelspec": {
   "display_name": "Python 3 (ipykernel)",
   "language": "python",
   "name": "python3"
  },
  "language_info": {
   "codemirror_mode": {
    "name": "ipython",
    "version": 3
   },
   "file_extension": ".py",
   "mimetype": "text/x-python",
   "name": "python",
   "nbconvert_exporter": "python",
   "pygments_lexer": "ipython3",
   "version": "3.7.13"
  },
  "modifiedBy": "admin",
  "tags": [
   "recipe-editor"
  ]
 },
 "nbformat": 4,
 "nbformat_minor": 4
}
