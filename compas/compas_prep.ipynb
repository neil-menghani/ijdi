{
 "cells": [
  {
   "cell_type": "markdown",
   "metadata": {},
   "source": [
    "### Import Libraries"
   ]
  },
  {
   "cell_type": "code",
   "execution_count": null,
   "metadata": {},
   "outputs": [],
   "source": [
    "import pandas as pd, numpy as np\n",
    "from sklearn.linear_model import LogisticRegression\n",
    "\n",
    "# Read recipe inputs\n",
    "german_df = pd.read_csv(\"compas.csv\")\n",
    "german_df"
   ]
  },
  {
   "cell_type": "markdown",
   "metadata": {},
   "source": [
    "### Data Preparation"
   ]
  },
  {
   "cell_type": "markdown",
   "metadata": {},
   "source": [
    "Summarize all columns and preview the dataset."
   ]
  },
  {
   "cell_type": "code",
   "execution_count": null,
   "metadata": {},
   "outputs": [],
   "source": [
    "print(\"Summary of all columns of the dataset:\")\n",
    "for col in compas_df.columns:\n",
    "    print(\"\\n\")\n",
    "    print(compas_df.loc[:,col].value_counts())\n",
    "compas_df.head(10)"
   ]
  },
  {
   "cell_type": "code",
   "execution_count": null,
   "metadata": {},
   "outputs": [],
   "source": [
    "# use treatment columns\n",
    "col_map = {'Sex':'sex',\n",
    "           'Race':'race',\n",
    "           'Prior Offenses':'prior_offenses',\n",
    "           'Under 25':'under_25',\n",
    "           'ChargeDegree':'charge_degree',\n",
    "           'COMPASPredictedDecileScore':'compas_risk_score',\n",
    "           'ReoffendedWithinTwoYears':'outcomes'}\n",
    "compas_prep_df = compas_df.rename(columns=col_map)\n",
    "compas_prep_df.head(10)"
   ]
  },
  {
   "cell_type": "markdown",
   "metadata": {},
   "source": [
    "1) Map COMPAS decile scores to probability of reoffending using Maximum Likelihood Estimator (reoffending rate for the corresponding group)."
   ]
  },
  {
   "cell_type": "code",
   "execution_count": null,
   "metadata": {},
   "outputs": [],
   "source": [
    "# probability mapping 1\n",
    "probability_mapping_1 = compas_prep_df.groupby('compas_risk_score').mean()['outcomes'].to_dict()\n",
    "probs_1_df = compas_prep_df['compas_risk_score'].map(probability_mapping_1)\n",
    "print(\"MLE probability estimates for each COMPAS risk score:\")\n",
    "print(probability_mapping_1)\n",
    "compas_prep_df['proba_compas'] = probs_1_df\n",
    "compas_prep_df"
   ]
  },
  {
   "cell_type": "markdown",
   "metadata": {},
   "source": [
    "2) Map decile scores and prior offenses to probability of reoffending using MLE (unused)."
   ]
  },
  {
   "cell_type": "code",
   "execution_count": null,
   "metadata": {},
   "outputs": [],
   "source": [
    "# probabilitiy mapping 2\n",
    "# probability_mapping_2 = compas_df.groupby(['COMPASPredictedDecileScore','Prior Offenses']).mean()['ReoffendedWithinTwoYears'].to_dict()\n",
    "# probs_2_df = pd.Series(list(zip(compas_df['COMPASPredictedDecileScore'], compas_df['Prior Offenses']))).map(probability_mapping_2)\n",
    "# print(\"MLE probability estimates for each COMPAS risk score and prior offenses:\")\n",
    "# print(probability_mapping_2)"
   ]
  },
  {
   "cell_type": "markdown",
   "metadata": {},
   "source": [
    "Build a \"True\" Model trained on the entire dataset's features and outcomes."
   ]
  },
  {
   "cell_type": "markdown",
   "metadata": {},
   "source": [
    "### Build Logistic Regression on Whole Dataset to Model \"True Probabilities\""
   ]
  },
  {
   "cell_type": "markdown",
   "metadata": {},
   "source": [
    "Select only covariates and outcomes to prepare for simulation."
   ]
  },
  {
   "cell_type": "code",
   "execution_count": null,
   "metadata": {},
   "outputs": [],
   "source": [
    "# Exclude risk score\n",
    "prob_cols = ['compas_risk_score', 'proba_compas']\n",
    "compas_model_df = compas_prep_df.drop(columns=prob_cols)"
   ]
  },
  {
   "cell_type": "markdown",
   "metadata": {},
   "source": [
    "One-Hot encode categorical features."
   ]
  },
  {
   "cell_type": "code",
   "execution_count": null,
   "metadata": {},
   "outputs": [],
   "source": [
    "for cat_col in compas_model_df.select_dtypes(include=['object', 'bool']).columns:\n",
    "    compas_model_df[cat_col] = compas_model_df[cat_col].astype('category')"
   ]
  },
  {
   "cell_type": "code",
   "execution_count": null,
   "metadata": {},
   "outputs": [],
   "source": [
    "X_num = compas_model_df.select_dtypes(exclude=['category'])\n",
    "X_cat = compas_model_df.select_dtypes(include=['category'])"
   ]
  },
  {
   "cell_type": "code",
   "execution_count": null,
   "metadata": {},
   "outputs": [],
   "source": [
    "# one-hot encoding of categorical features\n",
    "X_encoded = pd.get_dummies(X_cat)\n",
    "frames = [X_encoded, X_num]\n",
    "compas_model_df = pd.concat(frames, axis=1)\n",
    "compas_model_df"
   ]
  },
  {
   "cell_type": "code",
   "execution_count": null,
   "metadata": {},
   "outputs": [],
   "source": [
    "extra_cols = ['sex_Female', 'prior_offenses_None', 'charge_degree_M', 'under_25_False']\n",
    "compas_model_df = compas_model_df.drop(columns=extra_cols)\n",
    "compas_model_df"
   ]
  },
  {
   "cell_type": "code",
   "execution_count": null,
   "metadata": {},
   "outputs": [],
   "source": [
    "X = compas_model_df.drop(columns=['outcomes'])\n",
    "y = compas_model_df['outcomes']"
   ]
  },
  {
   "cell_type": "code",
   "execution_count": null,
   "metadata": {},
   "outputs": [],
   "source": [
    "lr = LogisticRegression(random_state=0)\n",
    "lr.fit(X, y)\n",
    "proba = lr.predict_proba(X)[:,1]\n",
    "compas_model_df['proba_lr'] = proba\n",
    "compas_prep_df['proba_lr'] = proba\n",
    "compas_prep_df"
   ]
  },
  {
   "cell_type": "code",
   "execution_count": null,
   "metadata": {},
   "outputs": [],
   "source": [
    "# Check accuracy of COMPAS predictions\n",
    "compas_model_df['test_outcomes'] = compas_prep_df['proba_compas'].apply(lambda x : 1 if x > 0.5 else 0)\n",
    "compas_model_df['check'] = compas_model_df.apply(lambda x : 1 if x['outcomes'] == x['test_outcomes'] else 0, axis=1)\n",
    "print(np.sum(compas_model_df['check']) / len(compas_model_df))\n",
    "compas_model_df = compas_model_df.drop(columns=['test_outcomes', 'check'])"
   ]
  },
  {
   "cell_type": "code",
   "execution_count": null,
   "metadata": {},
   "outputs": [],
   "source": [
    "# Check accuracy of Logistic Regression (\"actual probabilities\")\n",
    "compas_model_df['test_outcomes'] = compas_prep_df['proba_lr'].apply(lambda x : 1 if x > 0.5 else 0)\n",
    "compas_model_df['check'] = compas_model_df.apply(lambda x : 1 if x['outcomes'] == x['test_outcomes'] else 0, axis=1)\n",
    "print(np.sum(compas_model_df['check']) / len(compas_model_df))\n",
    "compas_model_df = compas_model_df.drop(columns=['test_outcomes', 'check'])"
   ]
  },
  {
   "cell_type": "code",
   "execution_count": null,
   "metadata": {},
   "outputs": [],
   "source": [
    "# Write recipe outputs\n",
    "if not os.path.exists(\"datasets\"):\n",
    "    os.mkdir(\"datasets\")\n",
    "german_prep_df.to_csv(\"datasets/compas_prep.csv\")"
   ]
  }
 ],
 "metadata": {
  "associatedRecipe": "recipe_from_notebook_Data_Preparation",
  "createdOn": 1637245810962,
  "creationTag": {
   "lastModifiedBy": {
    "login": "admin"
   },
   "lastModifiedOn": 1637245810962,
   "versionNumber": 0
  },
  "creator": "admin",
  "customFields": {},
  "dkuGit": {
   "lastInteraction": 0
  },
  "hide_input": false,
  "kernelspec": {
   "display_name": "Python 3 (ipykernel)",
   "language": "python",
   "name": "python3"
  },
  "language_info": {
   "codemirror_mode": {
    "name": "ipython",
    "version": 3
   },
   "file_extension": ".py",
   "mimetype": "text/x-python",
   "name": "python",
   "nbconvert_exporter": "python",
   "pygments_lexer": "ipython3",
   "version": "3.7.13"
  },
  "modifiedBy": "admin",
  "tags": [
   "recipe-editor"
  ]
 },
 "nbformat": 4,
 "nbformat_minor": 4
}
