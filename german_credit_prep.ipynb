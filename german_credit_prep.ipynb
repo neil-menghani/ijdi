{
 "cells": [
  {
   "cell_type": "code",
   "execution_count": null,
   "metadata": {},
   "outputs": [],
   "source": [
    "import pandas as pd, numpy as np\n",
    "from sklearn.linear_model import LogisticRegression\n",
    "from sklearn.ensemble import RandomForestClassifier\n",
    "\n",
    "# Read recipe inputs\n",
    "german_df = pd.read_csv(\"german_credit.csv\")\n",
    "german_df = german_df.drop(columns=['col_0'])\n",
    "german_df"
   ]
  },
  {
   "cell_type": "code",
   "execution_count": null,
   "metadata": {},
   "outputs": [],
   "source": [
    "cols = ['under_25', 'sex', 'job', 'housing', 'savings', 'checking', 'credit_amt', 'duration', 'purpose', 'outcomes']\n",
    "german_df['under_25'] = german_df['Age'].apply(lambda x : True if x < 25 else False)\n",
    "german_df['sex'] = german_df['Sex'].apply(lambda x : x.capitalize())\n",
    "german_df['job'] = german_df['Job'].apply(lambda x : 'None' if x == 0 else '1 Job' if x == 1 else 'Multiple Jobs')\n",
    "german_df['housing'] = german_df['Housing'].apply(lambda x : x.capitalize())\n",
    "german_df['savings'] = german_df['Saving accounts'].apply(lambda x : x.capitalize() if x == x else 'N/A')\n",
    "german_df['checking'] = german_df['Checking account'].apply(lambda x : x.capitalize() if x == x else 'N/A')\n",
    "credit_amts = {0:'Low', 1:'Moderate', 2:'High', 3:'Very High'}\n",
    "german_df['credit_amt'] = np.digitize(german_df['Credit amount'], [1000, 3000, 10000])\n",
    "german_df['credit_amt'] = german_df['credit_amt'].apply(lambda x : credit_amts[x])\n",
    "duration_lengths = {0:'Very Short', 1:'Short', 2:'Moderate', 3:'Long', 4:'Very Long'}\n",
    "german_df['duration'] = np.digitize(german_df['Duration'], [6, 12, 24, 48])\n",
    "german_df['duration'] = german_df['duration'].apply(lambda x : duration_lengths[x])\n",
    "german_df['purpose'] = german_df['Purpose'].apply(lambda x : '/'.join([a.capitalize() if a != 'TV' else a for a in x.split('/')]))\n",
    "german_df['outcomes'] = german_df['Risk'].apply(lambda x : 1 if x == 'bad' else 0) # take outcome = 1 to mean bad\n",
    "german_prep_df = german_df[cols]\n",
    "german_prep_df"
   ]
  },
  {
   "cell_type": "code",
   "execution_count": null,
   "metadata": {},
   "outputs": [],
   "source": [
    "print(\"Summary of all columns of the dataset:\")\n",
    "for col in german_prep_df.columns:\n",
    "    print(\"\\n\")\n",
    "    print(german_prep_df.loc[:,col].value_counts())\n",
    "german_prep_df.head(10)"
   ]
  },
  {
   "cell_type": "markdown",
   "metadata": {},
   "source": [
    "### Build Models on Whole Dataset"
   ]
  },
  {
   "cell_type": "markdown",
   "metadata": {},
   "source": [
    "Select only covariates and outcomes to prepare for simulation."
   ]
  },
  {
   "cell_type": "markdown",
   "metadata": {},
   "source": [
    "One-Hot encode categorical features."
   ]
  },
  {
   "cell_type": "code",
   "execution_count": null,
   "metadata": {},
   "outputs": [],
   "source": [
    "german_model_df = german_prep_df"
   ]
  },
  {
   "cell_type": "code",
   "execution_count": null,
   "metadata": {},
   "outputs": [],
   "source": [
    "for cat_col in german_model_df.select_dtypes(include=['object', 'bool']).columns:\n",
    "    german_model_df[cat_col] = german_model_df[cat_col].astype('category')"
   ]
  },
  {
   "cell_type": "code",
   "execution_count": null,
   "metadata": {},
   "outputs": [],
   "source": [
    "X_num = german_model_df.select_dtypes(exclude=['category'])\n",
    "X_cat = german_model_df.select_dtypes(include=['category'])"
   ]
  },
  {
   "cell_type": "code",
   "execution_count": null,
   "metadata": {},
   "outputs": [],
   "source": [
    "# one-hot encoding of categorical features\n",
    "X_encoded = pd.get_dummies(X_cat)\n",
    "frames = [X_encoded, X_num]\n",
    "german_model_df = pd.concat(frames, axis=1)\n",
    "german_model_df"
   ]
  },
  {
   "cell_type": "code",
   "execution_count": null,
   "metadata": {},
   "outputs": [],
   "source": [
    "extra_cols = ['under_25_False', 'sex_Female', 'job_None', 'housing_Free', 'savings_N/A', 'checking_N/A', 'credit_amt_Low', 'duration_Short']\n",
    "german_model_df = german_model_df.drop(columns=extra_cols)\n",
    "german_model_df"
   ]
  },
  {
   "cell_type": "code",
   "execution_count": null,
   "metadata": {},
   "outputs": [],
   "source": [
    "X = german_model_df.drop(columns=['outcomes'])\n",
    "y = german_model_df['outcomes']"
   ]
  },
  {
   "cell_type": "code",
   "execution_count": null,
   "metadata": {},
   "outputs": [],
   "source": [
    "# Build Logistic Regression\n",
    "lr = LogisticRegression(random_state=0)\n",
    "lr.fit(X, y)\n",
    "proba = lr.predict_proba(X)[:,1]\n",
    "german_model_df['proba_lr'] = proba\n",
    "german_prep_df['proba_lr'] = proba\n",
    "german_prep_df"
   ]
  },
  {
   "cell_type": "code",
   "execution_count": null,
   "metadata": {},
   "outputs": [],
   "source": [
    "# Check accuracy of Logistic Regression\n",
    "german_model_df['test_outcomes'] = german_prep_df['proba_lr'].apply(lambda x : 1 if x > 0.5 else 0)\n",
    "german_model_df['check'] = german_model_df.apply(lambda x : 1 if x['outcomes'] == x['test_outcomes'] else 0, axis=1)\n",
    "print(np.sum(german_model_df['check']) / len(german_model_df))\n",
    "german_model_df = german_model_df.drop(columns=['test_outcomes', 'check'])"
   ]
  },
  {
   "cell_type": "code",
   "execution_count": null,
   "metadata": {},
   "outputs": [],
   "source": [
    "# Build Random Forest\n",
    "rf = RandomForestClassifier(random_state=0)\n",
    "rf.fit(X, y)\n",
    "proba = rf.predict_proba(X)[:,1]\n",
    "german_model_df['proba_rf'] = proba\n",
    "german_prep_df['proba_rf'] = proba\n",
    "german_prep_df"
   ]
  },
  {
   "cell_type": "code",
   "execution_count": null,
   "metadata": {},
   "outputs": [],
   "source": [
    "# Check accuracy of Random Forest\n",
    "german_model_df['test_outcomes'] = german_prep_df['proba_rf'].apply(lambda x : 1 if x > 0.5 else 0)\n",
    "german_model_df['check'] = german_model_df.apply(lambda x : 1 if x['outcomes'] == x['test_outcomes'] else 0, axis=1)\n",
    "print(np.sum(german_model_df['check']) / len(german_model_df))\n",
    "german_model_df = german_model_df.drop(columns=['test_outcomes', 'check'])"
   ]
  },
  {
   "cell_type": "code",
   "execution_count": null,
   "metadata": {},
   "outputs": [],
   "source": [
    "# Write recipe outputs\n",
    "german_df.write_csv(\"datasets/german_credit_prep.csv\")"
   ]
  }
 ],
 "metadata": {
  "associatedRecipe": "compute_german_credit_prep",
  "createdOn": 1660543666901,
  "creationTag": {
   "lastModifiedBy": {
    "login": "admin"
   },
   "lastModifiedOn": 1660543666901,
   "versionNumber": 0
  },
  "creator": "admin",
  "customFields": {},
  "dkuGit": {
   "lastInteraction": 0
  },
  "hide_input": false,
  "kernelspec": {
   "display_name": "Python 3 (ipykernel)",
   "language": "python",
   "name": "python3"
  },
  "language_info": {
   "codemirror_mode": {
    "name": "ipython",
    "version": 3
   },
   "file_extension": ".py",
   "mimetype": "text/x-python",
   "name": "python",
   "nbconvert_exporter": "python",
   "pygments_lexer": "ipython3",
   "version": "3.7.13"
  },
  "modifiedBy": "admin",
  "tags": [
   "recipe-editor"
  ]
 },
 "nbformat": 4,
 "nbformat_minor": 4
}
